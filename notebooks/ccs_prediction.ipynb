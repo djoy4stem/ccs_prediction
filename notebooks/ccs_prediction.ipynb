{
 "cells": [
  {
   "cell_type": "markdown",
   "metadata": {},
   "source": [
    "# Predicting Collision Cross Section values\n",
    "\n",
    "Recently, ion mobility–mass spectrometry (IM–MS) has emerged as a promising technique for untargeted metabolomics by providing multi-dimensional separation and high selectivity. Ion mobility can rapidly separate metabolite ions based on their differences in rotationally averaged surface area or collision cross-section (CCS) The collision cross section is defined as the area around a particle in which the center of another particle must be in order for a collision to occur.\n",
    "\n",
    "In this notebook, we will use a deep learning approach to predict CCS values.\n",
    "\n",
    "References:\n",
    "> - [Zhou Z. et al (2020): Ion mobility collision cross-section atlas for known and unknown metabolite annotation in untargeted metabolomics](https://www.nature.com/articles/s41467-020-18171-8)\n",
    "> - [Chemistry Liretexts: Collisional Cross Section](https://chem.libretexts.org/Bookshelves/Physical_and_Theoretical_Chemistry_Textbook_Maps/Supplemental_Modules_(Physical_and_Theoretical_Chemistry)/Kinetics/06%3A_Modeling_Reaction_Kinetics/6.01%3A_Collision_Theory/6.1.01%3A_Collisional_Cross_Section#:~:text=The%20collisional%20cross%20section%20is%20defined%20as%20the%20area%20around,molecule%20A's%20collisional%20cross%20section)"
   ]
  },
  {
   "cell_type": "code",
   "execution_count": null,
   "metadata": {},
   "outputs": [],
   "source": [
    "## IPython extension to reload modules before executing user code.\n",
    "# Autorelad is an IPython extension to reload modules before executing user code.\n",
    "%load_ext autoreload\n",
    "\n",
    "# Reload all modules (except those excluded by %aimport) every time before executing the Python code typed.\n",
    "%autoreload 2"
   ]
  },
  {
   "cell_type": "code",
   "execution_count": 2,
   "metadata": {},
   "outputs": [
    {
     "name": "stdout",
     "output_type": "stream",
     "text": [
      "Requirement already satisfied: rdkit in /home/jovyan/envs/molpmofit/lib/python3.10/site-packages (2022.3.5)\n",
      "Requirement already satisfied: numpy in /home/jovyan/envs/molpmofit/lib/python3.10/site-packages (from rdkit) (1.23.2)\n",
      "Requirement already satisfied: Pillow in /home/jovyan/envs/molpmofit/lib/python3.10/site-packages (from rdkit) (9.2.0)\n",
      "\u001b[33mWARNING: Running pip as the 'root' user can result in broken permissions and conflicting behaviour with the system package manager. It is recommended to use a virtual environment instead: https://pip.pypa.io/warnings/venv\u001b[0m\u001b[33m\n",
      "\u001b[0m"
     ]
    }
   ],
   "source": [
    "!pip install rdkit"
   ]
  },
  {
   "cell_type": "code",
   "execution_count": 3,
   "metadata": {},
   "outputs": [
    {
     "name": "stdout",
     "output_type": "stream",
     "text": [
      "ROOT_DIR: /home/jovyan/projects/djoy4stem_github/ccs_prediction\n",
      "DATASET_DIR: /home/jovyan/projects/djoy4stem_github/ccs_prediction/data\n"
     ]
    }
   ],
   "source": [
    "import os\n",
    "import sys\n",
    "\n",
    "ROOT_DIR = os.sep.join(os.path.abspath('.').split(os.sep)[:-1])\n",
    "sys.path.insert(0, ROOT_DIR)\n",
    "DATASET_DIR = \"{}/data\".format(ROOT_DIR)\n",
    "print(\"ROOT_DIR: {}\".format(ROOT_DIR))\n",
    "print(\"DATASET_DIR: {}\".format(DATASET_DIR))\n",
    "\n",
    "from datetime import datetime\n",
    "from matplotlib import pyplot as plt\n",
    "import numpy as np\n",
    "import pandas as pd\n",
    "import re\n",
    "\n",
    "\n",
    "from rdkit import Chem\n",
    "from rdkit.Chem.rdMolDescriptors import GetMorganFingerprint\n",
    "from rdkit.Chem.inchi import MolFromInchi\n",
    "from rdkit.Chem import PandasTools, MolFromSmiles, AllChem, MolFromSmiles, Draw, MolToInchiKey, MolToSmiles\n",
    "from rdkit import DataStructs\n",
    "from rdkit.SimDivFilters.rdSimDivPickers import MaxMinPicker\n",
    "from rdkit import RDLogger \n",
    "RDLogger.DisableLog('rdApp.*') # switch off RDKit warning messages\n",
    "\n",
    "\n",
    "\n",
    "\n",
    "from sklearn.preprocessing import StandardScaler, FunctionTransformer, scale\n",
    "\n",
    "import torch\n",
    "import torch.nn as nn\n",
    "import torch.nn.functional as F # contains functional interface of typical operations used for building nn's\n",
    "import torch.optim as optim     # contains optimizers e.g. Adam, SGD\n",
    "from torch.optim.lr_scheduler import ReduceLROnPlateau\n",
    "from torch.utils.data import DataLoader, Dataset\n",
    "# from torchmetrics import ConfusionMatrix, Accuracy\n",
    "# from tqdm import tqdm\n",
    "from torch.nn import functional as F\n",
    "\n",
    "# from lib import utilities\n",
    "from lib.utilities import *\n",
    "\n",
    "# import scikitplot as skplt\n",
    "import matplotlib.pyplot as plt\n",
    "import numpy as np\n",
    "\n",
    "torch.set_printoptions(linewidth=120)\n",
    "\n",
    "import warnings\n",
    "warnings.filterwarnings(\"ignore\")\n",
    "\n"
   ]
  },
  {
   "cell_type": "code",
   "execution_count": 4,
   "metadata": {},
   "outputs": [],
   "source": [
    "SEED = 1234\n",
    "\n",
    "# random.seed(SEED)\n",
    "# np.random.seed(SEED)\n",
    "torch.manual_seed(SEED)\n",
    "torch.cuda.manual_seed(SEED)\n",
    "torch.backends.cudnn.deterministic = True"
   ]
  },
  {
   "cell_type": "markdown",
   "metadata": {},
   "source": [
    "## Data Collection\n",
    "The data was downloaded from the Unified CCS Compendium website. The entire database was downloaded from the **Compound Table** page as a .csv file, which we will use to train adduct-dependent ccs values.\n",
    "\n",
    ">- [Unified CCS Compendium](https://mcleanresearchgroup.shinyapps.io/CCS-Compendium/)\n",
    "\n",
    "The collected data was then cleaned. The CCS values were averaged upon grouping by SMILES and Adduct types. The resuting dataset was saved in the data/folder."
   ]
  },
  {
   "cell_type": "code",
   "execution_count": 5,
   "metadata": {},
   "outputs": [],
   "source": [
    "ccs_data = pd.read_csv(\"{}/ccs_data_cleaned.csv\".format(DATASET_DIR))\n",
    "target   = \"CCS_AVG\"\n",
    "smiles_column   = \"SMILES\"\n",
    "molecule_column = \"RMol\""
   ]
  },
  {
   "cell_type": "code",
   "execution_count": 6,
   "metadata": {},
   "outputs": [
    {
     "data": {
      "text/plain": [
       "[M+H]            674\n",
       "[M-H]            658\n",
       "[M+Na]           564\n",
       "[M-2H+Na]        105\n",
       "[M+K]             76\n",
       "                ... \n",
       "[M+17H]            1\n",
       "[M+18H]            1\n",
       "[M+19H]            1\n",
       "[M+20H]            1\n",
       "[M+H-H2O-NH3]      1\n",
       "Name: Ion.Species, Length: 65, dtype: int64"
      ]
     },
     "execution_count": 6,
     "metadata": {},
     "output_type": "execute_result"
    }
   ],
   "source": [
    "ccs_data[\"Ion.Species\"].value_counts()"
   ]
  },
  {
   "cell_type": "markdown",
   "metadata": {},
   "source": [
    "The new target columns is now target name appended with *'_AVG'* Let's now remove the duplicates."
   ]
  },
  {
   "cell_type": "code",
   "execution_count": 7,
   "metadata": {},
   "outputs": [
    {
     "name": "stdout",
     "output_type": "stream",
     "text": [
      "<class 'pandas.core.frame.DataFrame'>\n",
      "RangeIndex: 2478 entries, 0 to 2477\n",
      "Data columns (total 11 columns):\n",
      " #   Column           Non-Null Count  Dtype  \n",
      "---  ------           --------------  -----  \n",
      " 0   SMILES           2478 non-null   object \n",
      " 1   Ion.Species      2478 non-null   object \n",
      " 2   CanonicalSMILES  2478 non-null   object \n",
      " 3   CCS              2478 non-null   float64\n",
      " 4   CCS_AVG          2478 non-null   float64\n",
      " 5   CCS_stdev        195 non-null    float64\n",
      " 6   CCS_min          2478 non-null   float64\n",
      " 7   CCS_max          2478 non-null   float64\n",
      " 8   CCS_median       2478 non-null   float64\n",
      " 9   num_samples      2478 non-null   int64  \n",
      " 10  RMol             2478 non-null   object \n",
      "dtypes: float64(6), int64(1), object(4)\n",
      "memory usage: 213.1+ KB\n"
     ]
    }
   ],
   "source": [
    "if molecule_column in ccs_data.columns:\n",
    "    ccs_data = ccs_data.drop(molecule_column, axis=1)\n",
    "ccs_data[molecule_column] = ccs_data[smiles_column].apply(lambda x: MolFromSmiles(x)) \n",
    "ccs_data.info()"
   ]
  },
  {
   "cell_type": "markdown",
   "metadata": {},
   "source": [
    "As you can see, the *CCS_stdev* column has only 195 non-null values, because the value is null if there is only one sample in the SMILES-based group."
   ]
  },
  {
   "cell_type": "markdown",
   "metadata": {},
   "source": [
    "## Adduct-specific QSPR model fine-tuning\n",
    "We will focus on the \"M+H\" adduct type."
   ]
  },
  {
   "cell_type": "code",
   "execution_count": 8,
   "metadata": {},
   "outputs": [
    {
     "data": {
      "text/html": [
       "<div>\n",
       "<style scoped>\n",
       "    .dataframe tbody tr th:only-of-type {\n",
       "        vertical-align: middle;\n",
       "    }\n",
       "\n",
       "    .dataframe tbody tr th {\n",
       "        vertical-align: top;\n",
       "    }\n",
       "\n",
       "    .dataframe thead th {\n",
       "        text-align: right;\n",
       "    }\n",
       "</style>\n",
       "<table border=\"1\" class=\"dataframe\">\n",
       "  <thead>\n",
       "    <tr style=\"text-align: right;\">\n",
       "      <th></th>\n",
       "      <th>CCS</th>\n",
       "      <th>CCS_AVG</th>\n",
       "      <th>CCS_stdev</th>\n",
       "      <th>CCS_min</th>\n",
       "      <th>CCS_max</th>\n",
       "      <th>CCS_median</th>\n",
       "      <th>num_samples</th>\n",
       "    </tr>\n",
       "  </thead>\n",
       "  <tbody>\n",
       "    <tr>\n",
       "      <th>count</th>\n",
       "      <td>674.000000</td>\n",
       "      <td>674.000000</td>\n",
       "      <td>59.000000</td>\n",
       "      <td>674.000000</td>\n",
       "      <td>674.000000</td>\n",
       "      <td>674.000000</td>\n",
       "      <td>674.000000</td>\n",
       "    </tr>\n",
       "    <tr>\n",
       "      <th>mean</th>\n",
       "      <td>206.235935</td>\n",
       "      <td>206.502454</td>\n",
       "      <td>4.962017</td>\n",
       "      <td>206.144540</td>\n",
       "      <td>206.857003</td>\n",
       "      <td>206.505816</td>\n",
       "      <td>1.097923</td>\n",
       "    </tr>\n",
       "    <tr>\n",
       "      <th>std</th>\n",
       "      <td>74.468130</td>\n",
       "      <td>74.522534</td>\n",
       "      <td>5.809050</td>\n",
       "      <td>74.436685</td>\n",
       "      <td>74.663096</td>\n",
       "      <td>74.520986</td>\n",
       "      <td>0.330556</td>\n",
       "    </tr>\n",
       "    <tr>\n",
       "      <th>min</th>\n",
       "      <td>113.900000</td>\n",
       "      <td>113.900000</td>\n",
       "      <td>0.000000</td>\n",
       "      <td>113.900000</td>\n",
       "      <td>113.900000</td>\n",
       "      <td>113.900000</td>\n",
       "      <td>1.000000</td>\n",
       "    </tr>\n",
       "    <tr>\n",
       "      <th>25%</th>\n",
       "      <td>141.900000</td>\n",
       "      <td>141.900000</td>\n",
       "      <td>0.495000</td>\n",
       "      <td>141.900000</td>\n",
       "      <td>141.900000</td>\n",
       "      <td>141.900000</td>\n",
       "      <td>1.000000</td>\n",
       "    </tr>\n",
       "    <tr>\n",
       "      <th>50%</th>\n",
       "      <td>186.150000</td>\n",
       "      <td>186.350000</td>\n",
       "      <td>3.253000</td>\n",
       "      <td>186.150000</td>\n",
       "      <td>186.350000</td>\n",
       "      <td>186.350000</td>\n",
       "      <td>1.000000</td>\n",
       "    </tr>\n",
       "    <tr>\n",
       "      <th>75%</th>\n",
       "      <td>254.482500</td>\n",
       "      <td>254.482500</td>\n",
       "      <td>7.212500</td>\n",
       "      <td>254.482500</td>\n",
       "      <td>254.577500</td>\n",
       "      <td>254.482500</td>\n",
       "      <td>1.000000</td>\n",
       "    </tr>\n",
       "    <tr>\n",
       "      <th>max</th>\n",
       "      <td>439.800000</td>\n",
       "      <td>440.500000</td>\n",
       "      <td>22.802000</td>\n",
       "      <td>439.800000</td>\n",
       "      <td>441.200000</td>\n",
       "      <td>440.500000</td>\n",
       "      <td>3.000000</td>\n",
       "    </tr>\n",
       "  </tbody>\n",
       "</table>\n",
       "</div>"
      ],
      "text/plain": [
       "              CCS     CCS_AVG  CCS_stdev     CCS_min     CCS_max  CCS_median  \\\n",
       "count  674.000000  674.000000  59.000000  674.000000  674.000000  674.000000   \n",
       "mean   206.235935  206.502454   4.962017  206.144540  206.857003  206.505816   \n",
       "std     74.468130   74.522534   5.809050   74.436685   74.663096   74.520986   \n",
       "min    113.900000  113.900000   0.000000  113.900000  113.900000  113.900000   \n",
       "25%    141.900000  141.900000   0.495000  141.900000  141.900000  141.900000   \n",
       "50%    186.150000  186.350000   3.253000  186.150000  186.350000  186.350000   \n",
       "75%    254.482500  254.482500   7.212500  254.482500  254.577500  254.482500   \n",
       "max    439.800000  440.500000  22.802000  439.800000  441.200000  440.500000   \n",
       "\n",
       "       num_samples  \n",
       "count   674.000000  \n",
       "mean      1.097923  \n",
       "std       0.330556  \n",
       "min       1.000000  \n",
       "25%       1.000000  \n",
       "50%       1.000000  \n",
       "75%       1.000000  \n",
       "max       3.000000  "
      ]
     },
     "execution_count": 8,
     "metadata": {},
     "output_type": "execute_result"
    }
   ],
   "source": [
    "ccs_data_m_plus_h = ccs_data[ccs_data[\"Ion.Species\"]==\"[M+H]\"]\n",
    "ccs_data_m_plus_h.describe()"
   ]
  },
  {
   "cell_type": "code",
   "execution_count": 9,
   "metadata": {},
   "outputs": [],
   "source": [
    "# ccs_data_m_plus_h[target].plot.hist(alpha=0.5)"
   ]
  },
  {
   "cell_type": "code",
   "execution_count": 10,
   "metadata": {},
   "outputs": [
    {
     "name": "stdout",
     "output_type": "stream",
     "text": [
      "Computing and storing the InChiKeys...\n",
      "Splitting the dataset...\n",
      "539 - 67 - 68\n",
      "Indices (training):539 - [281, 117]\n",
      "Indices (validation):67 - [346]\n",
      "Indices (test):68 - [28]\n",
      "Train: (539, 12) - Validate: (67, 12) - Test: (68, 12)\n",
      "Index(['SMILES', 'Ion.Species', 'CanonicalSMILES', 'CCS', 'CCS_AVG',\n",
      "       'CCS_stdev', 'CCS_min', 'CCS_max', 'CCS_median', 'num_samples', 'RMol',\n",
      "       'InChIKey'],\n",
      "      dtype='object')\n"
     ]
    }
   ],
   "source": [
    "ccs_m_plus_h_train, ccs_m_plus_h_val, ccs_m_plus_h_test = min_max_train_validate_test_split_df(ccs_data_m_plus_h, molecule_column, inchikey_column=None, train_valid_ratios=[0.8, 0.10], fp_type= \"morgan\", random_state=1, return_indices=False)"
   ]
  },
  {
   "cell_type": "markdown",
   "metadata": {},
   "source": [
    "#### How are the CCS values distributed?\n",
    "Let's focus on the [M+H] adduct type"
   ]
  },
  {
   "cell_type": "code",
   "execution_count": 11,
   "metadata": {},
   "outputs": [
    {
     "data": {
      "text/plain": [
       "(<AxesSubplot:ylabel='Frequency'>,\n",
       " <AxesSubplot:ylabel='Frequency'>,\n",
       " <AxesSubplot:ylabel='Frequency'>)"
      ]
     },
     "execution_count": 11,
     "metadata": {},
     "output_type": "execute_result"
    },
    {
     "data": {
      "image/png": "[encoded data removed]",
      "text/plain": [
       "<Figure size 640x480 with 1 Axes>"
      ]
     },
     "metadata": {},
     "output_type": "display_data"
    }
   ],
   "source": [
    "ccs_m_plus_h_train[target].plot.hist(alpha=0.5, bins=20), ccs_m_plus_h_val[target].plot.hist(alpha=0.5, bins=20), ccs_m_plus_h_test[target].plot.hist(alpha=0.5, bins=20)"
   ]
  },
  {
   "cell_type": "markdown",
   "metadata": {},
   "source": [
    "### Data Augmentation\n",
    "Similarly to the examples provided by the MolPMoFit authors, we add a Gaussian noise (mean set at 0 and standard deviation σnoise) to the labels of augmented SMILES, in addition to SMILES augmentation."
   ]
  },
  {
   "cell_type": "code",
   "execution_count": 12,
   "metadata": {},
   "outputs": [],
   "source": [
    "## Slightly adapted from the original code from https://github.com/XinhaoLi74/MolPMoFiT/blob/master/notebooks/04_QSAR_Regression.ipynb\n",
    "\n",
    "def ccs_smiles_augmentation(df, N_rounds, smiles_column, target_column, noise = 0.1):\n",
    "    '''\n",
    "    noise: add gaussion noise to the label\n",
    "    '''\n",
    "    dist_aug = {col_name: [] for col_name in df}\n",
    "#     print(dist_aug)\n",
    "    for i in range(df.shape[0]):\n",
    "        for j in range(N_rounds):\n",
    "            dist_aug[smiles_column].append(randomize_smiles(df.iloc[i][smiles_column]))\n",
    "            dist_aug[target_column].append(df.iloc[i][target_column] + np.random.normal(0,noise))\n",
    "    df_aug = pd.DataFrame.from_dict(dist_aug)\n",
    "    df_aug = df_aug.append(df, ignore_index=True)\n",
    "    return df_aug.drop_duplicates(smiles_column)"
   ]
  },
  {
   "cell_type": "code",
   "execution_count": 13,
   "metadata": {},
   "outputs": [
    {
     "name": "stdout",
     "output_type": "stream",
     "text": [
      "CPU times: user 10.1 s, sys: 0 ns, total: 10.1 s\n",
      "Wall time: 10.1 s\n"
     ]
    },
    {
     "data": {
      "text/plain": [
       "((14639, 2), (399, 2))"
      ]
     },
     "execution_count": 13,
     "metadata": {},
     "output_type": "execute_result"
    }
   ],
   "source": [
    "%%time\n",
    "ccs_m_plus_h_train_aug = ccs_smiles_augmentation(ccs_m_plus_h_train[[smiles_column, target]], N_rounds=30, smiles_column=smiles_column, target_column=target, noise=0.3)\n",
    "ccs_m_plus_h_val_aug   = ccs_smiles_augmentation(ccs_m_plus_h_val[[smiles_column, target]], N_rounds=5, smiles_column=smiles_column, target_column=target, noise=0)\n",
    "\n",
    "ccs_m_plus_h_train_aug.shape, ccs_m_plus_h_val_aug.shape"
   ]
  },
  {
   "cell_type": "code",
   "execution_count": 14,
   "metadata": {},
   "outputs": [],
   "source": [
    "result_path = Path('{}/results'.format(DATASET_DIR))\n",
    "path = result_path/target\n",
    "Model_path = path/'models'"
   ]
  },
  {
   "cell_type": "code",
   "execution_count": 15,
   "metadata": {},
   "outputs": [
    {
     "data": {
      "text/html": [
       "\n",
       "<style>\n",
       "    /* Turns off some styling */\n",
       "    progress {\n",
       "        /* gets rid of default border in Firefox and Opera. */\n",
       "        border: none;\n",
       "        /* Needs to be in here for Safari polyfill so background images work as expected. */\n",
       "        background-size: auto;\n",
       "    }\n",
       "    progress:not([value]), progress:not([value])::-webkit-progress-bar {\n",
       "        background: repeating-linear-gradient(45deg, #7e7e7e, #7e7e7e 10px, #5c5c5c 10px, #5c5c5c 20px);\n",
       "    }\n",
       "    .progress-bar-interrupted, .progress-bar-interrupted::-webkit-progress-bar {\n",
       "        background: #F44336;\n",
       "    }\n",
       "</style>\n"
      ],
      "text/plain": [
       "<IPython.core.display.HTML object>"
      ]
     },
     "metadata": {},
     "output_type": "display_data"
    },
    {
     "data": {
      "text/html": [],
      "text/plain": [
       "<IPython.core.display.HTML object>"
      ]
     },
     "metadata": {},
     "output_type": "display_data"
    },
    {
     "data": {
      "text/html": [
       "\n",
       "<style>\n",
       "    /* Turns off some styling */\n",
       "    progress {\n",
       "        /* gets rid of default border in Firefox and Opera. */\n",
       "        border: none;\n",
       "        /* Needs to be in here for Safari polyfill so background images work as expected. */\n",
       "        background-size: auto;\n",
       "    }\n",
       "    progress:not([value]), progress:not([value])::-webkit-progress-bar {\n",
       "        background: repeating-linear-gradient(45deg, #7e7e7e, #7e7e7e 10px, #5c5c5c 10px, #5c5c5c 20px);\n",
       "    }\n",
       "    .progress-bar-interrupted, .progress-bar-interrupted::-webkit-progress-bar {\n",
       "        background: #F44336;\n",
       "    }\n",
       "</style>\n"
      ],
      "text/plain": [
       "<IPython.core.display.HTML object>"
      ]
     },
     "metadata": {},
     "output_type": "display_data"
    },
    {
     "data": {
      "text/html": [],
      "text/plain": [
       "<IPython.core.display.HTML object>"
      ]
     },
     "metadata": {},
     "output_type": "display_data"
    },
    {
     "name": "stdout",
     "output_type": "stream",
     "text": [
      "Vocab Size: 48\n"
     ]
    }
   ],
   "source": [
    "## Building a databunch for QSAR Modeling\n",
    "\n",
    "bs = 256\n",
    "tok = Tokenizer(partial(MolTokenizer, special_tokens = special_tokens), n_cpus=2, pre_rules=[], post_rules=[])\n",
    "\n",
    "qspr_vocab = TextLMDataBunch.from_df(path, ccs_m_plus_h_train_aug, ccs_m_plus_h_val_aug, bs=bs, tokenizer=tok, \n",
    "                              chunksize=50000, text_cols=0,label_cols=1, max_vocab=6000, include_bos=False)\n",
    "print(f'Vocab Size: {len(qspr_vocab.vocab.itos)}')"
   ]
  },
  {
   "cell_type": "markdown",
   "metadata": {},
   "source": [
    "Let's create a databunch for our QSPR task."
   ]
  },
  {
   "cell_type": "code",
   "execution_count": 16,
   "metadata": {},
   "outputs": [
    {
     "data": {
      "text/html": [
       "\n",
       "<style>\n",
       "    /* Turns off some styling */\n",
       "    progress {\n",
       "        /* gets rid of default border in Firefox and Opera. */\n",
       "        border: none;\n",
       "        /* Needs to be in here for Safari polyfill so background images work as expected. */\n",
       "        background-size: auto;\n",
       "    }\n",
       "    progress:not([value]), progress:not([value])::-webkit-progress-bar {\n",
       "        background: repeating-linear-gradient(45deg, #7e7e7e, #7e7e7e 10px, #5c5c5c 10px, #5c5c5c 20px);\n",
       "    }\n",
       "    .progress-bar-interrupted, .progress-bar-interrupted::-webkit-progress-bar {\n",
       "        background: #F44336;\n",
       "    }\n",
       "</style>\n"
      ],
      "text/plain": [
       "<IPython.core.display.HTML object>"
      ]
     },
     "metadata": {},
     "output_type": "display_data"
    },
    {
     "data": {
      "text/html": [],
      "text/plain": [
       "<IPython.core.display.HTML object>"
      ]
     },
     "metadata": {},
     "output_type": "display_data"
    },
    {
     "data": {
      "text/html": [
       "\n",
       "<style>\n",
       "    /* Turns off some styling */\n",
       "    progress {\n",
       "        /* gets rid of default border in Firefox and Opera. */\n",
       "        border: none;\n",
       "        /* Needs to be in here for Safari polyfill so background images work as expected. */\n",
       "        background-size: auto;\n",
       "    }\n",
       "    progress:not([value]), progress:not([value])::-webkit-progress-bar {\n",
       "        background: repeating-linear-gradient(45deg, #7e7e7e, #7e7e7e 10px, #5c5c5c 10px, #5c5c5c 20px);\n",
       "    }\n",
       "    .progress-bar-interrupted, .progress-bar-interrupted::-webkit-progress-bar {\n",
       "        background: #F44336;\n",
       "    }\n",
       "</style>\n"
      ],
      "text/plain": [
       "<IPython.core.display.HTML object>"
      ]
     },
     "metadata": {},
     "output_type": "display_data"
    },
    {
     "data": {
      "text/html": [],
      "text/plain": [
       "<IPython.core.display.HTML object>"
      ]
     },
     "metadata": {},
     "output_type": "display_data"
    }
   ],
   "source": [
    "ccs_databunch = TextClasDataBunch.from_df(path, ccs_m_plus_h_train_aug, ccs_m_plus_h_val_aug, bs=bs, tokenizer=tok, \n",
    "                                          chunksize=50000, text_cols=smiles_column,label_cols=target, \n",
    "                                          vocab=qspr_vocab.vocab, max_vocab=6000, include_bos=False)"
   ]
  },
  {
   "cell_type": "markdown",
   "metadata": {},
   "source": [
    "#### Freezing and unfreesing layers"
   ]
  },
  {
   "cell_type": "markdown",
   "metadata": {},
   "source": [
    "In other words, for example, freeze_to(1) is to freeze layer group 0 and unfreeze the rest layer groups, and freeze_to(3) is to freeze layer groups 0, 1, and 2 but unfreeze the rest layer groups (if there are more layer groups left).\n",
    "\n",
    "Both freeze and unfreeze sources are defined using freeze_to:\n",
    "\n",
    "> - When we say freeze, we mean that in the specified layer groups the requires_grad of all layers with weights (except BatchNorm layers) are set False, so the layer weights won't be updated during training.\n",
    "> - when we say unfreeze, we mean that in the specified layer groups the requires_grad of all layers with weights (except BatchNorm layers) are set True, so the layer weights will be updated during training.\n",
    "\n",
    "Reference:\n",
    "> - https://www.kaggle.com/code/danielliao/understanding-learner-freeze-to/notebook"
   ]
  },
  {
   "cell_type": "markdown",
   "metadata": {},
   "source": [
    "### Fine-tuning"
   ]
  },
  {
   "cell_type": "code",
   "execution_count": 32,
   "metadata": {},
   "outputs": [],
   "source": [
    "## Here we adapt the Encoder of MSPM According to the Target Dataset.\n",
    "ccs_values_learner = text_classifier_learner(ccs_databunch, AWD_LSTM, pretrained=False, drop_mult=0.3, metrics = [r2_score, root_mean_squared_error])\n",
    "ccs_values_learner.load_encoder(f'{target}_MSPM_finetuned_enc') ## Here, we use the MSPM model that we trained earlier.\n",
    "ccs_values_learner.freeze()\n",
    "# ccs_values_learner"
   ]
  },
  {
   "cell_type": "code",
   "execution_count": null,
   "metadata": {},
   "outputs": [
    {
     "data": {
      "text/html": [
       "\n",
       "<style>\n",
       "    /* Turns off some styling */\n",
       "    progress {\n",
       "        /* gets rid of default border in Firefox and Opera. */\n",
       "        border: none;\n",
       "        /* Needs to be in here for Safari polyfill so background images work as expected. */\n",
       "        background-size: auto;\n",
       "    }\n",
       "    progress:not([value]), progress:not([value])::-webkit-progress-bar {\n",
       "        background: repeating-linear-gradient(45deg, #7e7e7e, #7e7e7e 10px, #5c5c5c 10px, #5c5c5c 20px);\n",
       "    }\n",
       "    .progress-bar-interrupted, .progress-bar-interrupted::-webkit-progress-bar {\n",
       "        background: #F44336;\n",
       "    }\n",
       "</style>\n"
      ],
      "text/plain": [
       "<IPython.core.display.HTML object>"
      ]
     },
     "metadata": {},
     "output_type": "display_data"
    },
    {
     "data": {
      "text/html": [
       "\n",
       "    <div>\n",
       "      <progress value='44' class='' max='50' style='width:300px; height:20px; vertical-align: middle;'></progress>\n",
       "      88.00% [44/50 13:22&lt;01:49]\n",
       "    </div>\n",
       "    \n",
       "<table border=\"1\" class=\"dataframe\">\n",
       "  <thead>\n",
       "    <tr style=\"text-align: left;\">\n",
       "      <th>epoch</th>\n",
       "      <th>train_loss</th>\n",
       "      <th>valid_loss</th>\n",
       "      <th>r2_score</th>\n",
       "      <th>root_mean_squared_error</th>\n",
       "      <th>time</th>\n",
       "    </tr>\n",
       "  </thead>\n",
       "  <tbody>\n",
       "    <tr>\n",
       "      <td>0</td>\n",
       "      <td>5026.198730</td>\n",
       "      <td>5936.358887</td>\n",
       "      <td>-0.656990</td>\n",
       "      <td>66.667343</td>\n",
       "      <td>00:16</td>\n",
       "    </tr>\n",
       "    <tr>\n",
       "      <td>1</td>\n",
       "      <td>4673.005859</td>\n",
       "      <td>4843.039062</td>\n",
       "      <td>-0.382839</td>\n",
       "      <td>61.689838</td>\n",
       "      <td>00:18</td>\n",
       "    </tr>\n",
       "    <tr>\n",
       "      <td>2</td>\n",
       "      <td>4904.686035</td>\n",
       "      <td>5836.095703</td>\n",
       "      <td>-0.629491</td>\n",
       "      <td>66.127769</td>\n",
       "      <td>00:15</td>\n",
       "    </tr>\n",
       "    <tr>\n",
       "      <td>3</td>\n",
       "      <td>5071.336914</td>\n",
       "      <td>4925.573730</td>\n",
       "      <td>-0.435625</td>\n",
       "      <td>63.226021</td>\n",
       "      <td>00:17</td>\n",
       "    </tr>\n",
       "    <tr>\n",
       "      <td>4</td>\n",
       "      <td>4784.128418</td>\n",
       "      <td>4553.972656</td>\n",
       "      <td>-0.311937</td>\n",
       "      <td>60.268665</td>\n",
       "      <td>00:19</td>\n",
       "    </tr>\n",
       "    <tr>\n",
       "      <td>5</td>\n",
       "      <td>4556.998047</td>\n",
       "      <td>4256.265137</td>\n",
       "      <td>-0.209175</td>\n",
       "      <td>57.564735</td>\n",
       "      <td>00:18</td>\n",
       "    </tr>\n",
       "    <tr>\n",
       "      <td>6</td>\n",
       "      <td>5211.152344</td>\n",
       "      <td>4680.816406</td>\n",
       "      <td>-0.365393</td>\n",
       "      <td>61.670006</td>\n",
       "      <td>00:17</td>\n",
       "    </tr>\n",
       "    <tr>\n",
       "      <td>7</td>\n",
       "      <td>4573.721191</td>\n",
       "      <td>4044.078369</td>\n",
       "      <td>-0.256845</td>\n",
       "      <td>59.329720</td>\n",
       "      <td>00:20</td>\n",
       "    </tr>\n",
       "    <tr>\n",
       "      <td>8</td>\n",
       "      <td>5354.518555</td>\n",
       "      <td>6699.683594</td>\n",
       "      <td>-0.908971</td>\n",
       "      <td>72.421120</td>\n",
       "      <td>00:16</td>\n",
       "    </tr>\n",
       "    <tr>\n",
       "      <td>9</td>\n",
       "      <td>4974.885254</td>\n",
       "      <td>4894.277344</td>\n",
       "      <td>-0.433962</td>\n",
       "      <td>63.249874</td>\n",
       "      <td>00:19</td>\n",
       "    </tr>\n",
       "    <tr>\n",
       "      <td>10</td>\n",
       "      <td>4900.111816</td>\n",
       "      <td>3667.893799</td>\n",
       "      <td>-0.076620</td>\n",
       "      <td>54.821434</td>\n",
       "      <td>00:19</td>\n",
       "    </tr>\n",
       "    <tr>\n",
       "      <td>11</td>\n",
       "      <td>5319.074707</td>\n",
       "      <td>3210.924072</td>\n",
       "      <td>0.003390</td>\n",
       "      <td>52.836182</td>\n",
       "      <td>00:19</td>\n",
       "    </tr>\n",
       "    <tr>\n",
       "      <td>12</td>\n",
       "      <td>5791.073730</td>\n",
       "      <td>6616.270020</td>\n",
       "      <td>-0.830534</td>\n",
       "      <td>69.469986</td>\n",
       "      <td>00:17</td>\n",
       "    </tr>\n",
       "    <tr>\n",
       "      <td>13</td>\n",
       "      <td>5709.061523</td>\n",
       "      <td>9060.927734</td>\n",
       "      <td>-1.973271</td>\n",
       "      <td>90.625549</td>\n",
       "      <td>00:16</td>\n",
       "    </tr>\n",
       "    <tr>\n",
       "      <td>14</td>\n",
       "      <td>5242.083008</td>\n",
       "      <td>6522.336914</td>\n",
       "      <td>-0.810780</td>\n",
       "      <td>69.354149</td>\n",
       "      <td>00:18</td>\n",
       "    </tr>\n",
       "    <tr>\n",
       "      <td>15</td>\n",
       "      <td>5101.642090</td>\n",
       "      <td>3852.792969</td>\n",
       "      <td>-0.174433</td>\n",
       "      <td>57.396221</td>\n",
       "      <td>00:18</td>\n",
       "    </tr>\n",
       "    <tr>\n",
       "      <td>16</td>\n",
       "      <td>5485.457520</td>\n",
       "      <td>7310.951660</td>\n",
       "      <td>-1.274821</td>\n",
       "      <td>79.812317</td>\n",
       "      <td>00:19</td>\n",
       "    </tr>\n",
       "    <tr>\n",
       "      <td>17</td>\n",
       "      <td>4853.132324</td>\n",
       "      <td>12134.072266</td>\n",
       "      <td>-2.536002</td>\n",
       "      <td>99.223801</td>\n",
       "      <td>00:18</td>\n",
       "    </tr>\n",
       "    <tr>\n",
       "      <td>18</td>\n",
       "      <td>5405.065918</td>\n",
       "      <td>4713.410645</td>\n",
       "      <td>-0.326868</td>\n",
       "      <td>60.013977</td>\n",
       "      <td>00:17</td>\n",
       "    </tr>\n",
       "    <tr>\n",
       "      <td>19</td>\n",
       "      <td>4853.508789</td>\n",
       "      <td>4717.046387</td>\n",
       "      <td>-0.401585</td>\n",
       "      <td>62.643166</td>\n",
       "      <td>00:20</td>\n",
       "    </tr>\n",
       "    <tr>\n",
       "      <td>20</td>\n",
       "      <td>4654.067383</td>\n",
       "      <td>4434.789062</td>\n",
       "      <td>-0.283764</td>\n",
       "      <td>59.696251</td>\n",
       "      <td>00:20</td>\n",
       "    </tr>\n",
       "    <tr>\n",
       "      <td>21</td>\n",
       "      <td>5286.377441</td>\n",
       "      <td>4516.037109</td>\n",
       "      <td>-0.319925</td>\n",
       "      <td>60.657032</td>\n",
       "      <td>00:17</td>\n",
       "    </tr>\n",
       "    <tr>\n",
       "      <td>22</td>\n",
       "      <td>4974.841797</td>\n",
       "      <td>2970.300537</td>\n",
       "      <td>0.042278</td>\n",
       "      <td>51.581837</td>\n",
       "      <td>00:18</td>\n",
       "    </tr>\n",
       "    <tr>\n",
       "      <td>23</td>\n",
       "      <td>5058.154297</td>\n",
       "      <td>6323.206543</td>\n",
       "      <td>-0.739547</td>\n",
       "      <td>67.195114</td>\n",
       "      <td>00:18</td>\n",
       "    </tr>\n",
       "    <tr>\n",
       "      <td>24</td>\n",
       "      <td>4643.806152</td>\n",
       "      <td>7263.922852</td>\n",
       "      <td>-1.005461</td>\n",
       "      <td>72.521988</td>\n",
       "      <td>00:20</td>\n",
       "    </tr>\n",
       "    <tr>\n",
       "      <td>25</td>\n",
       "      <td>4627.212402</td>\n",
       "      <td>4030.324463</td>\n",
       "      <td>-0.185070</td>\n",
       "      <td>57.531395</td>\n",
       "      <td>00:19</td>\n",
       "    </tr>\n",
       "    <tr>\n",
       "      <td>26</td>\n",
       "      <td>5009.367188</td>\n",
       "      <td>5804.745117</td>\n",
       "      <td>-0.620565</td>\n",
       "      <td>65.940796</td>\n",
       "      <td>00:17</td>\n",
       "    </tr>\n",
       "    <tr>\n",
       "      <td>27</td>\n",
       "      <td>5025.930176</td>\n",
       "      <td>5595.322754</td>\n",
       "      <td>-0.565202</td>\n",
       "      <td>64.904671</td>\n",
       "      <td>00:18</td>\n",
       "    </tr>\n",
       "    <tr>\n",
       "      <td>28</td>\n",
       "      <td>5306.583496</td>\n",
       "      <td>7500.588379</td>\n",
       "      <td>-1.081440</td>\n",
       "      <td>74.323174</td>\n",
       "      <td>00:16</td>\n",
       "    </tr>\n",
       "    <tr>\n",
       "      <td>29</td>\n",
       "      <td>5078.672363</td>\n",
       "      <td>5156.756348</td>\n",
       "      <td>-0.806786</td>\n",
       "      <td>69.615067</td>\n",
       "      <td>00:18</td>\n",
       "    </tr>\n",
       "    <tr>\n",
       "      <td>30</td>\n",
       "      <td>5195.486328</td>\n",
       "      <td>6166.854492</td>\n",
       "      <td>-0.714701</td>\n",
       "      <td>67.589615</td>\n",
       "      <td>00:17</td>\n",
       "    </tr>\n",
       "    <tr>\n",
       "      <td>31</td>\n",
       "      <td>5248.690918</td>\n",
       "      <td>6129.177246</td>\n",
       "      <td>-0.716196</td>\n",
       "      <td>68.011696</td>\n",
       "      <td>00:16</td>\n",
       "    </tr>\n",
       "    <tr>\n",
       "      <td>32</td>\n",
       "      <td>4689.385254</td>\n",
       "      <td>5678.789551</td>\n",
       "      <td>-0.617767</td>\n",
       "      <td>66.663567</td>\n",
       "      <td>00:19</td>\n",
       "    </tr>\n",
       "    <tr>\n",
       "      <td>33</td>\n",
       "      <td>4617.978516</td>\n",
       "      <td>3839.937988</td>\n",
       "      <td>-0.125450</td>\n",
       "      <td>56.037563</td>\n",
       "      <td>00:20</td>\n",
       "    </tr>\n",
       "    <tr>\n",
       "      <td>34</td>\n",
       "      <td>5455.612305</td>\n",
       "      <td>6000.039062</td>\n",
       "      <td>-0.666543</td>\n",
       "      <td>66.565239</td>\n",
       "      <td>00:16</td>\n",
       "    </tr>\n",
       "    <tr>\n",
       "      <td>35</td>\n",
       "      <td>5191.020996</td>\n",
       "      <td>5525.354492</td>\n",
       "      <td>-0.534882</td>\n",
       "      <td>63.889294</td>\n",
       "      <td>00:17</td>\n",
       "    </tr>\n",
       "    <tr>\n",
       "      <td>36</td>\n",
       "      <td>5350.754395</td>\n",
       "      <td>5530.698730</td>\n",
       "      <td>-0.559002</td>\n",
       "      <td>65.102982</td>\n",
       "      <td>00:16</td>\n",
       "    </tr>\n",
       "    <tr>\n",
       "      <td>37</td>\n",
       "      <td>4892.158203</td>\n",
       "      <td>5219.115234</td>\n",
       "      <td>-0.520682</td>\n",
       "      <td>65.067757</td>\n",
       "      <td>00:19</td>\n",
       "    </tr>\n",
       "    <tr>\n",
       "      <td>38</td>\n",
       "      <td>4354.951660</td>\n",
       "      <td>4459.076172</td>\n",
       "      <td>-0.275517</td>\n",
       "      <td>59.288010</td>\n",
       "      <td>00:19</td>\n",
       "    </tr>\n",
       "    <tr>\n",
       "      <td>39</td>\n",
       "      <td>5049.685547</td>\n",
       "      <td>4344.031738</td>\n",
       "      <td>-0.265178</td>\n",
       "      <td>59.345127</td>\n",
       "      <td>00:16</td>\n",
       "    </tr>\n",
       "    <tr>\n",
       "      <td>40</td>\n",
       "      <td>5195.719727</td>\n",
       "      <td>3952.484375</td>\n",
       "      <td>-0.178681</td>\n",
       "      <td>57.463326</td>\n",
       "      <td>00:17</td>\n",
       "    </tr>\n",
       "    <tr>\n",
       "      <td>41</td>\n",
       "      <td>4962.085938</td>\n",
       "      <td>5116.073730</td>\n",
       "      <td>-0.440626</td>\n",
       "      <td>62.544296</td>\n",
       "      <td>00:17</td>\n",
       "    </tr>\n",
       "    <tr>\n",
       "      <td>42</td>\n",
       "      <td>5049.340332</td>\n",
       "      <td>4851.322754</td>\n",
       "      <td>-0.370879</td>\n",
       "      <td>61.132504</td>\n",
       "      <td>00:17</td>\n",
       "    </tr>\n",
       "    <tr>\n",
       "      <td>43</td>\n",
       "      <td>5219.167480</td>\n",
       "      <td>4370.173340</td>\n",
       "      <td>-0.285022</td>\n",
       "      <td>59.908642</td>\n",
       "      <td>00:16</td>\n",
       "    </tr>\n",
       "  </tbody>\n",
       "</table><p>\n",
       "\n",
       "    <div>\n",
       "      <progress value='22' class='' max='57' style='width:300px; height:20px; vertical-align: middle;'></progress>\n",
       "      38.60% [22/57 00:06&lt;00:09 5596.9448]\n",
       "    </div>\n",
       "    "
      ],
      "text/plain": [
       "<IPython.core.display.HTML object>"
      ]
     },
     "metadata": {},
     "output_type": "display_data"
    }
   ],
   "source": [
    "max_lr = 0.1\n",
    "# ccs_values_learner.fit_one_cycle(25, 25e-2, moms=(0.8,0.7))\n",
    "ccs_values_learner.fit_one_cycle(50, slice(max_lr/25, max_lr), moms=(0.8,0.7))\n",
    "ccs_values_learner.recorder.plot_lr()"
   ]
  },
  {
   "cell_type": "code",
   "execution_count": null,
   "metadata": {},
   "outputs": [],
   "source": [
    "ccs_values_learner.fit_one_cycle(25, 3e-2, moms=(0.9,0.8))"
   ]
  },
  {
   "cell_type": "code",
   "execution_count": null,
   "metadata": {},
   "outputs": [],
   "source": [
    "ccs_values_learner.freeze_to(-2)\n",
    "\n",
    "##   1) Understanding fit_one_cycle: https://iconof.com/1cycle-learning-rate-policy/\n",
    "##   2) Why I use Fastai and you should too.: https://towardsdatascience.com/why-i-use-fastai-and-you-should-too-a421f6c99508\n",
    "ccs_values_learner.fit_one_cycle(15, slice(5e-3/(2.6**4),5e-3), moms=(0.9,0.7)) "
   ]
  },
  {
   "cell_type": "code",
   "execution_count": null,
   "metadata": {},
   "outputs": [],
   "source": [
    "ccs_values_learner.freeze_to(-3)\n",
    "ccs_values_learner.fit_one_cycle(15, slice(5e-4/(2.6**4),5e-4), moms=(0.8,0.7))"
   ]
  },
  {
   "cell_type": "code",
   "execution_count": null,
   "metadata": {},
   "outputs": [],
   "source": [
    "ccs_values_learner.unfreeze()\n",
    "ccs_values_learner.fit_one_cycle(20, slice(5e-5/(2.6**4),5e-5), moms=(0.8,0.7))"
   ]
  },
  {
   "cell_type": "code",
   "execution_count": null,
   "metadata": {},
   "outputs": [],
   "source": [
    "ccs_values_learner.save(f'ccs_values_m_plus_h_model')"
   ]
  },
  {
   "cell_type": "markdown",
   "metadata": {},
   "source": [
    "### Testing the fine-tuned QSPR model"
   ]
  },
  {
   "cell_type": "code",
   "execution_count": null,
   "metadata": {},
   "outputs": [],
   "source": [
    "preds = []\n",
    "\n",
    "# Randomized SMILES Predictions\n",
    "for i in range(4):\n",
    "    np.random.seed(12*i)\n",
    "    ccs_m_plus_h_test_aug = lm_smiles_augmentation(ccs_m_plus_h_test,1, smiles_column, target_column)\n",
    "    \n",
    "    #model\n",
    "    ccs_databunch_test = TextClasDataBunch.from_df(path, ccs_m_plus_h_train_aug, ccs_m_plus_h_test_aug, tokenizer=tok, vocab=qspr_vocab.vocab,\n",
    "                                            text_cols=smiles_column, label_cols=target, bs=bs, include_bos=False)\n",
    "    learner = text_classifier_learner(ccs_databunch_test, AWD_LSTM, pretrained=False, drop_mult=0.2,metrics = [r2_score, root_mean_squared_error])\n",
    "    learner.load(f'ccs_values_m_plus_h_model'); \n",
    "    \n",
    "    #get predictions\n",
    "    pred,lbl = learner.get_preds(ordered=True)\n",
    "    \n",
    "    preds.append(pred)\n",
    "\n",
    "# Canonical SMILES Predictions\n",
    "ccs_databunch_test = TextClasDataBunch.from_df(path, ccs_m_plus_h_train_aug, ccs_m_plus_h_test_aug, bs=bs, tokenizer=tok, \n",
    "                              chunksize=5000, text_cols=smiles_column, label_cols=target, vocab=qspr_vocab.vocab, max_vocab=600,\n",
    "                                              include_bos=False)\n",
    "\n",
    "learner = text_classifier_learner(ccs_databunch_test, AWD_LSTM, pretrained=False, drop_mult=0.2,metrics = [r2_score, root_mean_squared_error])\n",
    "learner.load(f'ccs_values_m_plus_h_model');\n",
    "\n",
    "\n",
    "#get predictions\n",
    "pred_canonical,lbl = learner.get_preds(ordered=True)\n",
    "    \n",
    "preds.append(pred_canonical)\n"
   ]
  },
  {
   "cell_type": "code",
   "execution_count": null,
   "metadata": {},
   "outputs": [],
   "source": [
    "print('Test Set (Canonical)')\n",
    "print('RMSE:', root_mean_squared_error(pred_canonical,lbl))\n",
    "print('R2:', r2_score(pred_canonical,lbl))\n",
    "print('MAE:', mean_absolute_error(pred_canonical,lbl))"
   ]
  },
  {
   "cell_type": "code",
   "execution_count": null,
   "metadata": {},
   "outputs": [],
   "source": [
    "avg_preds = sum(preds)/len(preds)\n",
    "print('\\n')\n",
    "print('Test Set (Average)')\n",
    "print('RMSE:', root_mean_squared_error(avg_preds,lbl))\n",
    "print('R2:', r2_score(avg_preds,lbl))\n",
    "print('MAE:', mean_absolute_error(avg_preds,lbl))"
   ]
  },
  {
   "cell_type": "code",
   "execution_count": null,
   "metadata": {},
   "outputs": [],
   "source": [
    "ccs_data.to_csv(\"{}/ccs_data_cleaned.csv\".format(DATASET_DIR))"
   ]
  },
  {
   "cell_type": "code",
   "execution_count": null,
   "metadata": {},
   "outputs": [],
   "source": []
  }
 ],
 "metadata": {
  "kernelspec": {
   "display_name": "Python [conda env:jovyan-molpmofit]",
   "language": "python",
   "name": "conda-env-jovyan-molpmofit-py"
  },
  "language_info": {
   "codemirror_mode": {
    "name": "ipython",
    "version": 3
   },
   "file_extension": ".py",
   "mimetype": "text/x-python",
   "name": "python",
   "nbconvert_exporter": "python",
   "pygments_lexer": "ipython3",
   "version": "3.10.6"
  }
 },
 "nbformat": 4,
 "nbformat_minor": 4
}
